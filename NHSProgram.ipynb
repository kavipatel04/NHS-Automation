{
  "nbformat": 4,
  "nbformat_minor": 0,
  "metadata": {
    "colab": {
      "name": "NHSProgram.ipynb",
      "provenance": [],
      "authorship_tag": "ABX9TyOd/UT6Wg0qDP8dCvMMhULR"
    },
    "kernelspec": {
      "name": "python3",
      "display_name": "Python 3"
    }
  },
  "cells": [
    {
      "cell_type": "markdown",
      "metadata": {
        "id": "37S2LZvQUtcx"
      },
      "source": [
        "**Program Designed by Kavi Patel**\n",
        "\n",
        "NHS Program to Automatically Enter Information\n",
        "\n",
        "The first time that the script is run, the user must be securely authenticated through Google Cloud SDK. The user must also have pre-exisiting access to the documents on the selected acount. \n",
        "\n",
        "Code block 3 is where the link to the google sheets is inserted containting the names. (Read Access)\n",
        "\n",
        "Code block 4 is the document where the students should be checked off. (Write-Access)\n",
        "\n",
        "***How it works?***\n",
        "The program works by scanning each name in the second notebook, then cross checking it with the names listed in the first notebook. If the name exists in the first notebook, it will mark an \"x\" to show that the value has been checked. If the name does not exist in the first notebook, the computer will skip to the next line. \n",
        "\n",
        "***Editing the Print Column***\n",
        "In code block 5, there is a variable called month. This variable must be changed to match the correct column that you would like to print to. There are instructions on how to change it.\n",
        "\n",
        "***Risk***\n",
        "There is hardly any harm in running this program. The worst that could happen is printing in the wrong column with can easily be undone through going back to the main document. Have fun! Mess around with some of the variables and test them out to see what it does! Users are also authenticated through the secure Google Cloud SDK to prevent any recording of data. \n"
      ]
    },
    {
      "cell_type": "code",
      "metadata": {
        "id": "0lwazbR6sKi0"
      },
      "source": [
        "##accessing google sheets\n",
        "#authenticating the user\n",
        "from google.colab import auth\n",
        "auth.authenticate_user()\n",
        "import gspread\n",
        "from oauth2client.client import GoogleCredentials\n",
        "gc = gspread.authorize(GoogleCredentials.get_application_default())"
      ],
      "execution_count": null,
      "outputs": []
    },
    {
      "cell_type": "code",
      "metadata": {
        "id": "9kDDuqe7sOiN"
      },
      "source": [
        "#This is the sheet of students who have completed their service hours\n",
        "wb = gc.open_by_url('https://docs.google.com/spreadsheets/d/1WmpZStI7uUQJX9pdZhsyxD3AOHmnU-luLRwWqZA0Nno/edit#gid=991726261') #LINK TO THE GOOGLE SHEET\n",
        "sheet = wb.worksheet('Janaury 2021') #NAME OF THE SUB SHEET"
      ],
      "execution_count": null,
      "outputs": []
    },
    {
      "cell_type": "code",
      "metadata": {
        "id": "y42ey-yntKRv"
      },
      "source": [
        "#spreadsheet to write to, this is the main sheet\n",
        "wb2 = gc.open_by_url('https://docs.google.com/spreadsheets/d/1FZVNZiP_0csxDwb6LKhsxwSD9TNS61-r2jmhJorpcxE/edit#gid=0')\n",
        "sheet2 = wb2.worksheet('Sheet1')\n"
      ],
      "execution_count": null,
      "outputs": []
    },
    {
      "cell_type": "code",
      "metadata": {
        "id": "4SUG5nYo3Xhz"
      },
      "source": [
        "from tqdm import tqdm \n",
        "\n",
        "month = 3 #1 for the month of november, to switch to december simply change to 2, and for january 3. \n",
        "          #This is just the column number for where to put the values. \n",
        "completion = \"x\" #This is the completion variable, this is how it will mark a person as having finished or whether they still have something\n",
        "#Need to create first and last name string\n",
        "firstNames = sheet2.col_values(2)\n",
        "lastNames = sheet2.col_values(1)\n",
        "nameList = []\n",
        "for i in range(len(firstNames)):\n",
        "  nameList.append(firstNames[i] + \" \" + lastNames[i])\n",
        "\n",
        "count = 0\n",
        "notSubmitted = []\n",
        "for value in tqdm(nameList):\n",
        "  nameFound = False\n",
        "  try:\n",
        "    sheet.find(value)\n",
        "    nameFound = True\n",
        "  except:\n",
        "    notSubmitted.append(value)\n",
        "    nameFound = False\n",
        "  if nameFound:\n",
        "      firstName = sheet2.findall(firstNames[count])\n",
        "      lastName = sheet2.findall(lastNames[count])\n",
        "      accFirstName = \"\"\n",
        "      accLastName = \"\"\n",
        "      counter = 0\n",
        "      done = False\n",
        "\n",
        "      ###Below is to parse through the value and to seperate first from last name Currently not needed but kept\n",
        "      for index in value:\n",
        "        if index == \" \":\n",
        "          done = True\n",
        "        if (done == False):\n",
        "          accFirstName += index\n",
        "          counter += 1\n",
        "        else:\n",
        "          accLastName = value[counter+1:len(value)]\n",
        "      #############################################\n",
        "\n",
        "      for data in firstName:\n",
        "        for data2 in lastName:\n",
        "          if data2.row == data.row:\n",
        "            sheet2.update_cell(data.row, data.col + month, completion)\n",
        "  \n",
        "  count += 1\n",
        "print(\"The program has completed running... spreadsheet has been updated\")\n",
        "print(\"Below are the results\")\n",
        "for data in notSubmitted:\n",
        "  print(data + \" has not submitted\")\n",
        "  \n",
        "\n"
      ],
      "execution_count": null,
      "outputs": []
    }
  ]
}